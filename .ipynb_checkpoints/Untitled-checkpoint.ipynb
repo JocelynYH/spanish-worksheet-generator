{
 "cells": [
  {
   "cell_type": "code",
   "execution_count": 1,
   "metadata": {},
   "outputs": [],
   "source": [
    "# import bs4 as\n",
    "from bs4 import BeautifulSoup as bs\n",
    "import urllib.request\n",
    "import requests\n",
    "\n",
    "word = \"gustar\"\n",
    "\n",
    "page = requests.get('https://www.spanishdict.com/translate/{}'.format(word))\n",
    "\n",
    "soup = bs(page.content, 'html.parser')\n",
    "\n",
    "dictionaryContainer = soup.find(id=\"dictionary-neodict-es\")\n",
    "\n",
    "listEnglishSentences = [sentence.get_text()\n",
    "                        for sentence in list(dictionaryContainer.find_all('em'))]\n",
    "listSpanishSentences = [sentence.previous_sibling.previous_sibling.get_text()\n",
    "                        for sentence in list(dictionaryContainer.find_all('em'))]\n",
    "\n",
    "exampleSentencesDictionary = []\n",
    "\n",
    "for sentence, sentenceES in zip(listEnglishSentences, listSpanishSentences):\n",
    "    exampleSentencesDictionary.append({\n",
    "        'english': sentence,\n",
    "        'spanish': sentenceES\n",
    "    })\n",
    "\n",
    "print(exampleSentencesDictionary)\n"
   ]
  },
  {
   "cell_type": "code",
   "execution_count": null,
   "metadata": {},
   "outputs": [],
   "source": []
  }
 ],
 "metadata": {
  "kernelspec": {
   "display_name": "Python 3",
   "language": "python",
   "name": "python3"
  },
  "language_info": {
   "codemirror_mode": {
    "name": "ipython",
    "version": 3
   },
   "file_extension": ".py",
   "mimetype": "text/x-python",
   "name": "python",
   "nbconvert_exporter": "python",
   "pygments_lexer": "ipython3",
   "version": "3.7.3"
  }
 },
 "nbformat": 4,
 "nbformat_minor": 2
}
